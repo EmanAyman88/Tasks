{
 "cells": [
  {
   "cell_type": "code",
   "execution_count": 1,
   "id": "eca76c51",
   "metadata": {},
   "outputs": [],
   "source": [
    "import pandas as pd\n",
    "import re"
   ]
  },
  {
   "cell_type": "code",
   "execution_count": 2,
   "id": "232e7d38",
   "metadata": {},
   "outputs": [],
   "source": [
    "f = open(\"C:\\\\Users\\\\Hp\\\\Desktop\\\\student1.txt\", \"r\")\n",
    "text_to_search= f.read()"
   ]
  },
  {
   "cell_type": "code",
   "execution_count": 3,
   "id": "6e734205",
   "metadata": {},
   "outputs": [
    {
     "name": "stdout",
     "output_type": "stream",
     "text": [
      "\n",
      "Eman Ayman \t010234567899\teman@yahoo.com\n",
      "Sara Khaled\t010987654321\tsara@Zu.edu\n",
      "Reem Mohamed\t010192837465\treem@job-2.ma\n",
      "Amira Ahmed\t010918273645\tamira@gmail.com\n",
      "Laila Amr\t010564738291\tlaila@egy.edu\n",
      "\n"
     ]
    }
   ],
   "source": [
    "print(text_to_search)"
   ]
  },
  {
   "cell_type": "code",
   "execution_count": 5,
   "id": "724beb08",
   "metadata": {},
   "outputs": [
    {
     "data": {
      "text/plain": [
       "['Eman Ayman', 'Sara Khaled', 'Reem Mohamed', 'Amira Ahmed', 'Laila Amr']"
      ]
     },
     "execution_count": 5,
     "metadata": {},
     "output_type": "execute_result"
    }
   ],
   "source": [
    "pattern = re.compile(r\"[A-Z]+[a-z]+\\s[A-Z]+[a-z]+\") \n",
    "matches = pattern.finditer(text_to_search)\n",
    "Names=[]\n",
    "for match in matches: \n",
    "    Names.append(text_to_search[ match.span()[0]   : match.span()[1] ])\n",
    "Names"
   ]
  },
  {
   "cell_type": "code",
   "execution_count": 6,
   "id": "5bc9a29b",
   "metadata": {},
   "outputs": [
    {
     "data": {
      "text/plain": [
       "['01023456789', '01098765432', '01019283746', '01091827364', '01056473829']"
      ]
     },
     "execution_count": 6,
     "metadata": {},
     "output_type": "execute_result"
    }
   ],
   "source": [
    "pattern = re.compile(r\"010\\d{8}\") \n",
    "matches = pattern.finditer(text_to_search)\n",
    "Phone_number=[]\n",
    "for match in matches: \n",
    "    Phone_number.append(text_to_search[ match.span()[0]   : match.span()[1] ])\n",
    "Phone_number"
   ]
  },
  {
   "cell_type": "code",
   "execution_count": 7,
   "id": "6ad53d55",
   "metadata": {},
   "outputs": [
    {
     "data": {
      "text/plain": [
       "['eman@yahoo.com',\n",
       " 'sara@Zu.edu',\n",
       " 'reem@job-2.ma',\n",
       " 'amira@gmail.com',\n",
       " 'laila@egy.edu']"
      ]
     },
     "execution_count": 7,
     "metadata": {},
     "output_type": "execute_result"
    }
   ],
   "source": [
    "pattern = re.compile(r\"[a-zA-Z0-9_.+-]+@[a-zA-Z0-9-]+\\.[a-zA-Z0-9-.]+\") \n",
    "matches = pattern.finditer(text_to_search)\n",
    "mails=[]\n",
    "for match in matches: \n",
    "    mails.append(text_to_search[ match.span()[0]   : match.span()[1] ])\n",
    "mails"
   ]
  },
  {
   "cell_type": "code",
   "execution_count": null,
   "id": "06f5dae1",
   "metadata": {},
   "outputs": [],
   "source": []
  }
 ],
 "metadata": {
  "kernelspec": {
   "display_name": "Python 3 (ipykernel)",
   "language": "python",
   "name": "python3"
  },
  "language_info": {
   "codemirror_mode": {
    "name": "ipython",
    "version": 3
   },
   "file_extension": ".py",
   "mimetype": "text/x-python",
   "name": "python",
   "nbconvert_exporter": "python",
   "pygments_lexer": "ipython3",
   "version": "3.9.13"
  }
 },
 "nbformat": 4,
 "nbformat_minor": 5
}
